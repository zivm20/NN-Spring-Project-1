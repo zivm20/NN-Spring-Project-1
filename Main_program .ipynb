{
 "cells": [
  {
   "cell_type": "markdown",
   "metadata": {},
   "source": [
    " Imports"
   ]
  },
  {
   "cell_type": "code",
   "execution_count": 45,
   "metadata": {},
   "outputs": [],
   "source": [
    "import numpy as np\n",
    "import pandas as pd\n",
    "import genData\n",
    "from sklearn.metrics import accuracy_score"
   ]
  },
  {
   "cell_type": "markdown",
   "metadata": {},
   "source": [
    "Load our data sets for consistant and reproducible results"
   ]
  },
  {
   "cell_type": "code",
   "execution_count": 46,
   "metadata": {},
   "outputs": [],
   "source": [
    "seed = 412412\n",
    "genData.def_seed = seed"
   ]
  },
  {
   "cell_type": "code",
   "execution_count": 47,
   "metadata": {},
   "outputs": [
    {
     "data": {
      "text/html": [
       "<div>\n",
       "<style scoped>\n",
       "    .dataframe tbody tr th:only-of-type {\n",
       "        vertical-align: middle;\n",
       "    }\n",
       "\n",
       "    .dataframe tbody tr th {\n",
       "        vertical-align: top;\n",
       "    }\n",
       "\n",
       "    .dataframe thead th {\n",
       "        text-align: right;\n",
       "    }\n",
       "</style>\n",
       "<table border=\"1\" class=\"dataframe\">\n",
       "  <thead>\n",
       "    <tr style=\"text-align: right;\">\n",
       "      <th></th>\n",
       "      <th>x</th>\n",
       "      <th>y</th>\n",
       "      <th>target</th>\n",
       "    </tr>\n",
       "  </thead>\n",
       "  <tbody>\n",
       "    <tr>\n",
       "      <th>0</th>\n",
       "      <td>-43.81</td>\n",
       "      <td>9.13</td>\n",
       "      <td>1</td>\n",
       "    </tr>\n",
       "    <tr>\n",
       "      <th>1</th>\n",
       "      <td>36.77</td>\n",
       "      <td>-90.65</td>\n",
       "      <td>-1</td>\n",
       "    </tr>\n",
       "    <tr>\n",
       "      <th>2</th>\n",
       "      <td>-37.08</td>\n",
       "      <td>-59.84</td>\n",
       "      <td>-1</td>\n",
       "    </tr>\n",
       "    <tr>\n",
       "      <th>3</th>\n",
       "      <td>-52.09</td>\n",
       "      <td>37.77</td>\n",
       "      <td>1</td>\n",
       "    </tr>\n",
       "    <tr>\n",
       "      <th>4</th>\n",
       "      <td>-95.38</td>\n",
       "      <td>-72.81</td>\n",
       "      <td>-1</td>\n",
       "    </tr>\n",
       "    <tr>\n",
       "      <th>...</th>\n",
       "      <td>...</td>\n",
       "      <td>...</td>\n",
       "      <td>...</td>\n",
       "    </tr>\n",
       "    <tr>\n",
       "      <th>995</th>\n",
       "      <td>-75.39</td>\n",
       "      <td>45.75</td>\n",
       "      <td>1</td>\n",
       "    </tr>\n",
       "    <tr>\n",
       "      <th>996</th>\n",
       "      <td>-79.71</td>\n",
       "      <td>-2.78</td>\n",
       "      <td>-1</td>\n",
       "    </tr>\n",
       "    <tr>\n",
       "      <th>997</th>\n",
       "      <td>-75.68</td>\n",
       "      <td>35.71</td>\n",
       "      <td>1</td>\n",
       "    </tr>\n",
       "    <tr>\n",
       "      <th>998</th>\n",
       "      <td>-56.96</td>\n",
       "      <td>98.57</td>\n",
       "      <td>1</td>\n",
       "    </tr>\n",
       "    <tr>\n",
       "      <th>999</th>\n",
       "      <td>-83.67</td>\n",
       "      <td>74.21</td>\n",
       "      <td>1</td>\n",
       "    </tr>\n",
       "  </tbody>\n",
       "</table>\n",
       "<p>1000 rows × 3 columns</p>\n",
       "</div>"
      ],
      "text/plain": [
       "         x      y  target\n",
       "0   -43.81   9.13       1\n",
       "1    36.77 -90.65      -1\n",
       "2   -37.08 -59.84      -1\n",
       "3   -52.09  37.77       1\n",
       "4   -95.38 -72.81      -1\n",
       "..     ...    ...     ...\n",
       "995 -75.39  45.75       1\n",
       "996 -79.71  -2.78      -1\n",
       "997 -75.68  35.71       1\n",
       "998 -56.96  98.57       1\n",
       "999 -83.67  74.21       1\n",
       "\n",
       "[1000 rows x 3 columns]"
      ]
     },
     "execution_count": 47,
     "metadata": {},
     "output_type": "execute_result"
    }
   ],
   "source": [
    "trainA = genData.create_A()\n",
    "testA = genData.create_A()\n",
    "trainA"
   ]
  },
  {
   "cell_type": "code",
   "execution_count": 48,
   "metadata": {},
   "outputs": [
    {
     "data": {
      "text/html": [
       "<div>\n",
       "<style scoped>\n",
       "    .dataframe tbody tr th:only-of-type {\n",
       "        vertical-align: middle;\n",
       "    }\n",
       "\n",
       "    .dataframe tbody tr th {\n",
       "        vertical-align: top;\n",
       "    }\n",
       "\n",
       "    .dataframe thead th {\n",
       "        text-align: right;\n",
       "    }\n",
       "</style>\n",
       "<table border=\"1\" class=\"dataframe\">\n",
       "  <thead>\n",
       "    <tr style=\"text-align: right;\">\n",
       "      <th></th>\n",
       "      <th>x</th>\n",
       "      <th>y</th>\n",
       "      <th>target</th>\n",
       "    </tr>\n",
       "  </thead>\n",
       "  <tbody>\n",
       "    <tr>\n",
       "      <th>0</th>\n",
       "      <td>-43.81</td>\n",
       "      <td>9.13</td>\n",
       "      <td>-1</td>\n",
       "    </tr>\n",
       "    <tr>\n",
       "      <th>1</th>\n",
       "      <td>36.77</td>\n",
       "      <td>-90.65</td>\n",
       "      <td>-1</td>\n",
       "    </tr>\n",
       "    <tr>\n",
       "      <th>2</th>\n",
       "      <td>-37.08</td>\n",
       "      <td>-59.84</td>\n",
       "      <td>-1</td>\n",
       "    </tr>\n",
       "    <tr>\n",
       "      <th>3</th>\n",
       "      <td>-52.09</td>\n",
       "      <td>37.77</td>\n",
       "      <td>-1</td>\n",
       "    </tr>\n",
       "    <tr>\n",
       "      <th>4</th>\n",
       "      <td>-95.38</td>\n",
       "      <td>-72.81</td>\n",
       "      <td>-1</td>\n",
       "    </tr>\n",
       "    <tr>\n",
       "      <th>...</th>\n",
       "      <td>...</td>\n",
       "      <td>...</td>\n",
       "      <td>...</td>\n",
       "    </tr>\n",
       "    <tr>\n",
       "      <th>995</th>\n",
       "      <td>-75.39</td>\n",
       "      <td>45.75</td>\n",
       "      <td>-1</td>\n",
       "    </tr>\n",
       "    <tr>\n",
       "      <th>996</th>\n",
       "      <td>-79.71</td>\n",
       "      <td>-2.78</td>\n",
       "      <td>-1</td>\n",
       "    </tr>\n",
       "    <tr>\n",
       "      <th>997</th>\n",
       "      <td>-75.68</td>\n",
       "      <td>35.71</td>\n",
       "      <td>-1</td>\n",
       "    </tr>\n",
       "    <tr>\n",
       "      <th>998</th>\n",
       "      <td>-56.96</td>\n",
       "      <td>98.57</td>\n",
       "      <td>-1</td>\n",
       "    </tr>\n",
       "    <tr>\n",
       "      <th>999</th>\n",
       "      <td>-83.67</td>\n",
       "      <td>74.21</td>\n",
       "      <td>-1</td>\n",
       "    </tr>\n",
       "  </tbody>\n",
       "</table>\n",
       "<p>1000 rows × 3 columns</p>\n",
       "</div>"
      ],
      "text/plain": [
       "         x      y  target\n",
       "0   -43.81   9.13      -1\n",
       "1    36.77 -90.65      -1\n",
       "2   -37.08 -59.84      -1\n",
       "3   -52.09  37.77      -1\n",
       "4   -95.38 -72.81      -1\n",
       "..     ...    ...     ...\n",
       "995 -75.39  45.75      -1\n",
       "996 -79.71  -2.78      -1\n",
       "997 -75.68  35.71      -1\n",
       "998 -56.96  98.57      -1\n",
       "999 -83.67  74.21      -1\n",
       "\n",
       "[1000 rows x 3 columns]"
      ]
     },
     "execution_count": 48,
     "metadata": {},
     "output_type": "execute_result"
    }
   ],
   "source": [
    "trainB = genData.create_B()\n",
    "testB = genData.create_B()\n",
    "trainB"
   ]
  },
  {
   "cell_type": "code",
   "execution_count": 59,
   "metadata": {},
   "outputs": [],
   "source": [
    "class Adaline:\n",
    "    def __init__(self,seed = None):\n",
    "        self.rng = np.random.RandomState(seed)\n",
    "        self.repeats = 100\n",
    "        self.learning_rate = 0.00000002\n",
    "        self.epsilon = 0.0001\n",
    "        \n",
    "\n",
    "    def fit(self,data,target):\n",
    "        self.weights = self.rng.rand(data.shape[1],1)\n",
    "        self.possible_targets = np.unique(target)\n",
    "        #self.possible_targets = np.sort(np.append(self.possible_targets,[float(\"-inf\"),float(\"inf\")]))\n",
    "\n",
    "        if isinstance(data,pd.DataFrame):\n",
    "            data = data.to_numpy().T\n",
    "            \n",
    "        past_errors = [float(\"inf\")]\n",
    "        for i in range(self.repeats):\n",
    "            errors = []\n",
    "            stats = {\"Y\":[],\"t-Y\":[],\"Delta w1\":[], \"Delta w2\":[],\"w1\":[],\"w2\":[],\"Error\":[]}\n",
    "            for x_i in range(data.shape[1]):\n",
    "            \n",
    "                Y = np.sum(data[:,[x_i]]*self.weights,axis=0)\n",
    "                delta = (target[x_i]-Y)\n",
    "                deltaW = self.learning_rate*delta*data[:,[x_i]]\n",
    "                self.weights = self.weights + deltaW\n",
    "                errors.append((delta**2)[0])\n",
    "                #temp = {\"Y\":Y,\"t-Y\":sqrErr,\"Delta w1\":deltaW[0], \"Delta w2\":deltaW[1],\"w1\":self.weights[0],\"w2\":self.weights[1]}\n",
    "                temp = {\"Y\":round(Y[0],4),\"t-Y\":round(delta[0],4),\"Delta w1\":round(deltaW[0][0],4), \"Delta w2\":round(deltaW[1][0],4),\"w1\":round(self.weights[0][0],4),\"w2\":round(self.weights[1][0],4),\"Error\":round((delta**2)[0],4)}\n",
    "                for k in temp:\n",
    "                    stats[k].append(temp[k])\n",
    "\n",
    "            mse = sum(errors)/len(errors)\n",
    "            #stop if our mse is increasing\n",
    "            if(mse > past_errors[-1]+self.epsilon):\n",
    "                i = self.repeats\n",
    "            past_errors.append(mse)\n",
    "            #print(\"Epoch\",i)\n",
    "            #df = pd.DataFrame(stats)\n",
    "            #print(df)\n",
    "            #print(mse)\n",
    "            #print(\"--------\")\n",
    "                \n",
    "            \n",
    "\n",
    "    def predict(self,data):\n",
    "        if isinstance(data,pd.DataFrame):\n",
    "            data = data.to_numpy().T\n",
    "        \n",
    "        #print(data,\"*\",self.weights,\"=\",data*self.weights)\n",
    "        \n",
    "        raw_target = np.ravel(np.sum(data*self.weights,axis=0))\n",
    "        absMat = []\n",
    "        for val in self.possible_targets:\n",
    "            absMat.append(np.abs(raw_target - val))\n",
    "        absMat = np.array(absMat)\n",
    "        targetIndexes = np.argmin(absMat,axis=0)\n",
    "        target = []\n",
    "        \n",
    "        for i in targetIndexes:\n",
    "            target.append(self.possible_targets[i])\n",
    "\n",
    "        return np.array(target) "
   ]
  },
  {
   "cell_type": "code",
   "execution_count": 60,
   "metadata": {},
   "outputs": [
    {
     "data": {
      "text/plain": [
       "(array([[ 5, 10, 15, 20, 25, 30, 35, 40, 45],\n",
       "        [ 2,  4,  6,  8, 10, 12, 14, 16, 18]]),\n",
       " (2, 1))"
      ]
     },
     "execution_count": 60,
     "metadata": {},
     "output_type": "execute_result"
    }
   ],
   "source": [
    "v = np.array([[1,2,3,4,5,6,7,8,9],[1,2,3,4,5,6,7,8,9]])\n",
    "w = np.array([[5],[2]])\n",
    "v*w,w.shape"
   ]
  },
  {
   "cell_type": "code",
   "execution_count": 61,
   "metadata": {},
   "outputs": [],
   "source": [
    "ad = Adaline(seed)\n",
    "data = np.array([[1,1,-1,-1],[1,-1,1,-1]])\n",
    "target = np.array([-1,1,-1,-1])\n",
    "ad.fit(trainA.loc[:,[\"x\",\"y\"]],trainA[\"target\"])"
   ]
  },
  {
   "cell_type": "code",
   "execution_count": 62,
   "metadata": {},
   "outputs": [
    {
     "data": {
      "text/plain": [
       "array([ 1, -1, -1,  1, -1, -1,  1,  1,  1, -1, -1, -1,  1,  1,  1,  1,  1,\n",
       "       -1,  1,  1,  1,  1,  1,  1,  1,  1, -1, -1,  1, -1,  1,  1, -1, -1,\n",
       "        1, -1, -1, -1,  1,  1, -1, -1, -1, -1, -1,  1, -1,  1,  1, -1, -1,\n",
       "        1, -1,  1,  1,  1,  1,  1, -1,  1,  1,  1,  1,  1, -1, -1,  1, -1,\n",
       "        1, -1,  1, -1, -1, -1,  1,  1,  1, -1,  1, -1,  1,  1, -1, -1,  1,\n",
       "       -1,  1, -1, -1,  1,  1, -1,  1, -1, -1,  1,  1, -1,  1,  1,  1,  1,\n",
       "        1,  1, -1, -1,  1, -1, -1,  1,  1,  1,  1, -1, -1,  1,  1, -1,  1,\n",
       "       -1,  1, -1, -1, -1, -1, -1,  1, -1,  1, -1, -1,  1, -1,  1,  1, -1,\n",
       "       -1,  1,  1, -1, -1, -1, -1,  1,  1,  1, -1, -1, -1,  1,  1,  1, -1,\n",
       "       -1,  1,  1,  1,  1,  1,  1, -1,  1,  1, -1,  1,  1,  1, -1, -1,  1,\n",
       "       -1, -1,  1,  1, -1, -1,  1,  1,  1,  1, -1,  1,  1,  1, -1, -1, -1,\n",
       "        1, -1, -1,  1,  1, -1,  1, -1,  1,  1,  1, -1, -1,  1,  1, -1,  1,\n",
       "        1, -1,  1,  1,  1, -1, -1,  1, -1, -1,  1,  1,  1, -1,  1, -1, -1,\n",
       "       -1, -1,  1,  1,  1,  1,  1,  1,  1, -1,  1, -1,  1,  1, -1, -1, -1,\n",
       "        1, -1, -1, -1,  1, -1, -1,  1,  1,  1,  1, -1, -1,  1,  1, -1, -1,\n",
       "       -1, -1,  1, -1, -1, -1,  1,  1,  1,  1, -1, -1, -1,  1,  1, -1,  1,\n",
       "       -1,  1,  1,  1, -1,  1, -1,  1,  1, -1,  1,  1, -1,  1,  1, -1,  1,\n",
       "        1,  1, -1,  1,  1, -1, -1, -1,  1,  1, -1,  1,  1, -1, -1,  1, -1,\n",
       "       -1, -1,  1,  1, -1, -1, -1, -1,  1,  1, -1,  1,  1,  1, -1, -1,  1,\n",
       "       -1,  1,  1, -1,  1, -1,  1, -1,  1,  1,  1, -1, -1, -1,  1,  1, -1,\n",
       "        1,  1,  1,  1, -1, -1,  1, -1, -1,  1,  1,  1,  1,  1,  1, -1, -1,\n",
       "        1, -1, -1, -1,  1,  1,  1, -1, -1, -1, -1, -1,  1,  1,  1, -1,  1,\n",
       "        1, -1, -1, -1, -1, -1, -1, -1,  1, -1, -1, -1,  1, -1,  1, -1, -1,\n",
       "       -1, -1, -1,  1,  1, -1, -1,  1, -1,  1, -1, -1,  1,  1, -1,  1,  1,\n",
       "       -1,  1, -1,  1, -1,  1,  1,  1, -1, -1,  1, -1, -1, -1, -1,  1, -1,\n",
       "       -1, -1,  1,  1,  1, -1, -1,  1,  1,  1, -1, -1, -1,  1, -1, -1, -1,\n",
       "       -1, -1, -1, -1, -1,  1,  1,  1,  1,  1,  1,  1, -1, -1, -1, -1,  1,\n",
       "       -1, -1, -1, -1,  1, -1, -1, -1,  1, -1,  1,  1,  1,  1, -1,  1,  1,\n",
       "        1, -1, -1,  1, -1,  1,  1, -1, -1, -1,  1,  1, -1,  1, -1,  1,  1,\n",
       "        1,  1, -1, -1, -1,  1,  1, -1,  1, -1, -1, -1, -1, -1, -1, -1, -1,\n",
       "       -1,  1,  1,  1,  1,  1,  1, -1, -1,  1,  1,  1, -1,  1, -1,  1,  1,\n",
       "       -1,  1, -1, -1, -1,  1, -1, -1, -1,  1,  1, -1,  1,  1, -1,  1,  1,\n",
       "        1,  1,  1, -1,  1, -1, -1, -1, -1, -1,  1,  1, -1, -1, -1,  1, -1,\n",
       "       -1,  1, -1,  1,  1, -1,  1, -1, -1, -1, -1, -1,  1, -1,  1, -1, -1,\n",
       "       -1,  1, -1, -1,  1,  1, -1, -1,  1, -1, -1,  1, -1,  1,  1,  1, -1,\n",
       "       -1, -1, -1, -1,  1,  1, -1,  1,  1, -1, -1,  1, -1, -1, -1, -1,  1,\n",
       "        1, -1,  1,  1, -1,  1,  1, -1, -1, -1, -1, -1,  1,  1, -1,  1, -1,\n",
       "        1,  1, -1, -1,  1,  1,  1, -1, -1, -1, -1,  1, -1,  1, -1, -1, -1,\n",
       "        1,  1,  1, -1,  1, -1,  1, -1, -1, -1,  1, -1,  1, -1,  1,  1, -1,\n",
       "        1, -1, -1, -1, -1,  1,  1, -1,  1, -1, -1,  1,  1, -1,  1,  1, -1,\n",
       "       -1, -1,  1,  1, -1, -1, -1, -1,  1,  1, -1, -1,  1,  1,  1, -1, -1,\n",
       "        1, -1, -1,  1, -1,  1,  1, -1, -1, -1, -1, -1,  1, -1,  1, -1, -1,\n",
       "       -1,  1,  1, -1, -1, -1,  1,  1, -1,  1,  1,  1, -1,  1,  1,  1, -1,\n",
       "       -1, -1, -1, -1,  1, -1,  1, -1, -1,  1,  1, -1, -1, -1,  1,  1,  1,\n",
       "        1,  1,  1, -1,  1,  1, -1, -1, -1,  1, -1, -1,  1,  1, -1, -1, -1,\n",
       "        1,  1,  1,  1, -1, -1,  1, -1,  1,  1, -1,  1,  1,  1,  1,  1,  1,\n",
       "       -1,  1,  1,  1, -1, -1,  1,  1,  1, -1, -1, -1,  1,  1,  1, -1, -1,\n",
       "       -1, -1,  1, -1,  1,  1,  1, -1,  1, -1,  1,  1,  1, -1,  1,  1,  1,\n",
       "        1, -1, -1, -1, -1,  1,  1, -1, -1, -1, -1,  1, -1,  1, -1,  1,  1,\n",
       "       -1, -1, -1, -1, -1, -1,  1, -1, -1, -1, -1,  1, -1, -1,  1,  1, -1,\n",
       "       -1, -1,  1, -1, -1, -1, -1, -1,  1, -1, -1, -1,  1,  1,  1, -1,  1,\n",
       "       -1,  1, -1,  1, -1,  1, -1,  1,  1, -1, -1, -1, -1,  1,  1, -1, -1,\n",
       "       -1, -1, -1, -1,  1, -1,  1,  1, -1, -1,  1, -1, -1,  1, -1, -1, -1,\n",
       "        1, -1,  1, -1, -1, -1,  1, -1, -1,  1, -1, -1, -1,  1,  1, -1, -1,\n",
       "        1,  1, -1, -1,  1, -1,  1,  1, -1, -1,  1,  1, -1, -1, -1,  1,  1,\n",
       "       -1,  1, -1,  1, -1, -1, -1,  1,  1, -1,  1, -1, -1,  1, -1,  1,  1,\n",
       "        1, -1,  1, -1, -1,  1, -1,  1,  1, -1, -1, -1, -1, -1, -1, -1,  1,\n",
       "       -1,  1,  1, -1, -1, -1, -1, -1,  1, -1,  1,  1, -1,  1, -1,  1, -1,\n",
       "       -1,  1,  1,  1, -1, -1,  1, -1, -1,  1, -1,  1,  1,  1])"
      ]
     },
     "execution_count": 62,
     "metadata": {},
     "output_type": "execute_result"
    }
   ],
   "source": [
    "testA_res = ad.predict(testA.loc[:,[\"x\",\"y\"]])\n",
    "testA_res\n"
   ]
  },
  {
   "cell_type": "code",
   "execution_count": 63,
   "metadata": {},
   "outputs": [
    {
     "data": {
      "text/plain": [
       "0.991"
      ]
     },
     "execution_count": 63,
     "metadata": {},
     "output_type": "execute_result"
    }
   ],
   "source": [
    "accuracy_score(testA[\"target\"],testA_res)"
   ]
  },
  {
   "cell_type": "markdown",
   "metadata": {},
   "source": []
  },
  {
   "cell_type": "code",
   "execution_count": null,
   "metadata": {},
   "outputs": [],
   "source": []
  },
  {
   "cell_type": "code",
   "execution_count": null,
   "metadata": {},
   "outputs": [],
   "source": []
  },
  {
   "cell_type": "code",
   "execution_count": null,
   "metadata": {},
   "outputs": [],
   "source": []
  }
 ],
 "metadata": {
  "interpreter": {
   "hash": "bfb4883d108fc92ac768439090a2e92bb9a1f760a54beeecfd6762b5dcd70fe3"
  },
  "kernelspec": {
   "display_name": "Python 3.10.1 64-bit",
   "language": "python",
   "name": "python3"
  },
  "language_info": {
   "codemirror_mode": {
    "name": "ipython",
    "version": 3
   },
   "file_extension": ".py",
   "mimetype": "text/x-python",
   "name": "python",
   "nbconvert_exporter": "python",
   "pygments_lexer": "ipython3",
   "version": "3.10.1"
  },
  "orig_nbformat": 4
 },
 "nbformat": 4,
 "nbformat_minor": 2
}
